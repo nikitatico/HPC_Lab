{
 "cells": [
  {
   "cell_type": "code",
   "execution_count": 219,
   "id": "7ebfeba8-4033-408a-96d8-01585cd0b3b4",
   "metadata": {},
   "outputs": [],
   "source": [
    "import timeit\n",
    "from numba import cuda\n",
    "import numpy as np\n",
    "import pandas as pd"
   ]
  },
  {
   "cell_type": "code",
   "execution_count": 220,
   "id": "fd17b81d-8395-4b31-a4b0-7c10eb667aab",
   "metadata": {},
   "outputs": [],
   "source": [
    "def cpu_points_count(points):\n",
    "    count_res = 0\n",
    "    for point in points:\n",
    "        if point[0] ** 2 + point[1] ** 2 <= 1:\n",
    "            count_res += 1\n",
    "    return count_res\n",
    "\n",
    "@cuda.jit\n",
    "def gpu_points_count(points, count):\n",
    "    index = cuda.blockIdx.x * cuda.blockDim.x + cuda.threadIdx.x\n",
    "    while index < points.shape[0]:\n",
    "        if points[index][0] ** 2 + points[index][1] ** 2 <= 1:\n",
    "            cuda.atomic.add(count, 0, 1)\n",
    "        index += cuda.blockDim.x * cuda.gridDim.x\n",
    "\n",
    "def gpu_calc(points, count):\n",
    "    # Перенос данных в глобальную память GPU\n",
    "    d_points = cuda.to_device(points)\n",
    "    d_count = cuda.device_array_like(count)\n",
    "    threads_per_block = device.WARP_SIZE\n",
    "    blocks_per_grid = 256\n",
    "    gpu_points_count[blocks_per_grid, threads_per_block](d_points, d_count)\n",
    "    return d_count.copy_to_host()"
   ]
  },
  {
   "cell_type": "code",
   "execution_count": 228,
   "id": "388d1353-98fe-402f-94c0-87e34d2374a4",
   "metadata": {},
   "outputs": [
    {
     "name": "stdout",
     "output_type": "stream",
     "text": [
      "Время CPU = 0.5301465100143105\n",
      "Время GPU = 0.01316682999022305\n",
      "Ускорение = 40.26379245482531\n",
      "Результат CPU = 3.141184\n",
      "Результат GPU = 3.141185831793686\n"
     ]
    }
   ],
   "source": [
    "n = 1000000\n",
    "tests = 10\n",
    "points = np.random.rand(n, 2)\n",
    "count = np.zeros(1)\n",
    "device = cuda.get_current_device()\n",
    "gpu_res = 4 * gpu_calc(points, count)[0] / n\n",
    "cpu_res = 4 * cpu_points_count(points) / n\n",
    "time_gpu = timeit.timeit(lambda: gpu_calc(points, count), number=tests) / tests\n",
    "time_cpu = timeit.timeit(lambda: cpu_points_count(points), number=tests) / tests\n",
    "print(f\"Время CPU = {time_cpu}\")\n",
    "print(f\"Время GPU = {time_gpu}\")\n",
    "print(f\"Ускорение = {time_cpu / time_gpu}\")\n",
    "print(f\"Результат CPU = {cpu_res}\")\n",
    "print(f\"Результат GPU = {gpu_res}\")"
   ]
  },
  {
   "cell_type": "code",
   "execution_count": null,
   "id": "a3525b92-5991-4484-aa4c-fa731443da41",
   "metadata": {},
   "outputs": [],
   "source": []
  }
 ],
 "metadata": {
  "kernelspec": {
   "display_name": "Python 3 (ipykernel)",
   "language": "python",
   "name": "python3"
  },
  "language_info": {
   "codemirror_mode": {
    "name": "ipython",
    "version": 3
   },
   "file_extension": ".py",
   "mimetype": "text/x-python",
   "name": "python",
   "nbconvert_exporter": "python",
   "pygments_lexer": "ipython3",
   "version": "3.12.0"
  }
 },
 "nbformat": 4,
 "nbformat_minor": 5
}
