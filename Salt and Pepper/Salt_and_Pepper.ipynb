{
 "cells": [
  {
   "cell_type": "code",
   "execution_count": 47,
   "id": "7ebfeba8-4033-408a-96d8-01585cd0b3b4",
   "metadata": {},
   "outputs": [],
   "source": [
    "import time\n",
    "import cv2\n",
    "import numba\n",
    "from numba import cuda\n",
    "import numpy as np"
   ]
  },
  {
   "cell_type": "code",
   "execution_count": 48,
   "id": "fd17b81d-8395-4b31-a4b0-7c10eb667aab",
   "metadata": {},
   "outputs": [],
   "source": [
    "def cpu_salt_and_pepper(s_and_p):\n",
    "    row, col = s_and_p.shape[0] - 2, s_and_p.shape[1] - 2\n",
    "    res = np.zeros((row, col))\n",
    "    for i in range(row):\n",
    "        for j in range(col):\n",
    "            window = s_and_p[i:i+3, j:j+3].flatten()\n",
    "            window.sort()\n",
    "            res[i, j] = window[4]\n",
    "    return res\n",
    "\n",
    "@cuda.jit\n",
    "def gpu_salt_and_pepper(s_and_p, res):\n",
    "    index = cuda.blockIdx.x * cuda.blockDim.x + cuda.threadIdx.x\n",
    "    row, col = s_and_p.shape[0] - 2, s_and_p.shape[1] - 2\n",
    "    while index < row * col:\n",
    "        window = cuda.local.array(shape=9, dtype=numba.float64)\n",
    "        i, j = index // col, index % col\n",
    "        for k in range(9):\n",
    "            window[k] = s_and_p[i + k // 3, j + k % 3]\n",
    "        for k in range(8):\n",
    "            for l in range(8-k):\n",
    "                if window[l] > window[l+1]:\n",
    "                    window[l], window[l + 1] = window[l + 1], window[l]\n",
    "        res[i, j] = window[4]\n",
    "        index += cuda.blockDim.x * cuda.gridDim.x\n",
    "\n",
    "\n",
    "def gpu_calc(s_and_p, res):\n",
    "    d_salt_pep = cuda.to_device(s_and_p)\n",
    "    d_res = cuda.device_array_like(res)\n",
    "    threads_per_block = device.WARP_SIZE\n",
    "    blocks_per_grid = 512\n",
    "    gpu_salt_and_pepper[blocks_per_grid, threads_per_block](d_salt_pep, d_res)\n",
    "    return d_res.copy_to_host()"
   ]
  },
  {
   "cell_type": "code",
   "execution_count": 50,
   "id": "388d1353-98fe-402f-94c0-87e34d2374a4",
   "metadata": {},
   "outputs": [
    {
     "name": "stdout",
     "output_type": "stream",
     "text": [
      "True\n",
      "Время CPU = 4.012222766876221\n",
      "Время GPU = 0.054596900939941406\n",
      "Ускорение = 73.48810459571347\n"
     ]
    }
   ],
   "source": [
    "prob = 0.3\n",
    "original = cv2.imread('original.bmp', cv2.IMREAD_GRAYSCALE)\n",
    "salt_pepper = np.where(np.random.rand(*original.shape) < prob, np.random.randint(0, 255, original.shape), original)\n",
    "cv2.imwrite('salt_pepper.bmp', salt_pepper)\n",
    "s_and_p = np.pad(salt_pepper, 1, mode=\"symmetric\")\n",
    "res= np.zeros(salt_pepper.shape)\n",
    "device = cuda.get_current_device()\n",
    "\n",
    "start_time_cpu = time.time()\n",
    "cpu_res = cpu_salt_and_pepper(s_and_p)\n",
    "cpu_time = time.time() - start_time_cpu\n",
    "\n",
    "start_time_gpu = time.time()\n",
    "gpu_res = gpu_calc(s_and_p, res)\n",
    "gpu_time = time.time() - start_time_gpu\n",
    "\n",
    "\n",
    "print(np.allclose(cpu_res, gpu_res))\n",
    "cv2.imwrite('cpu_res.bmp', cpu_res)\n",
    "cv2.imwrite('gpu_res.bmp', gpu_res)\n",
    "print(f\"Время CPU = {cpu_time}\")\n",
    "print(f\"Время GPU = {gpu_time}\")\n",
    "print(f\"Ускорение = {cpu_time / gpu_time}\")"
   ]
  },
  {
   "cell_type": "code",
   "execution_count": null,
   "id": "666fa5ef-65f7-40bd-8b43-926e40d04853",
   "metadata": {},
   "outputs": [],
   "source": []
  }
 ],
 "metadata": {
  "kernelspec": {
   "display_name": "Python 3 (ipykernel)",
   "language": "python",
   "name": "python3"
  },
  "language_info": {
   "codemirror_mode": {
    "name": "ipython",
    "version": 3
   },
   "file_extension": ".py",
   "mimetype": "text/x-python",
   "name": "python",
   "nbconvert_exporter": "python",
   "pygments_lexer": "ipython3",
   "version": "3.12.0"
  }
 },
 "nbformat": 4,
 "nbformat_minor": 5
}
